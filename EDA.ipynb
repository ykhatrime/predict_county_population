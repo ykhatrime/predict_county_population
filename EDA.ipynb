{
 "cells": [
  {
   "cell_type": "markdown",
   "metadata": {},
   "source": [
    "1.Data Loading:\n",
    "Dataset is downloaded from here: https://data.gov.om/OMPOP2016/population?accesskey=cyrltlb&lang=en"
   ]
  },
  {
   "cell_type": "code",
   "execution_count": 14,
   "metadata": {},
   "outputs": [],
   "source": [
    "import pandas as pd\n",
    "import numpy as np\n",
    "from matplotlib import pyplot as plt\n",
    "%matplotlib inline\n",
    "import matplotlib \n",
    "matplotlib.rcParams[\"figure.figsize\"] = (20,10)"
   ]
  },
  {
   "cell_type": "code",
   "execution_count": 15,
   "metadata": {},
   "outputs": [
    {
     "data": {
      "text/html": [
       "<div>\n",
       "<style scoped>\n",
       "    .dataframe tbody tr th:only-of-type {\n",
       "        vertical-align: middle;\n",
       "    }\n",
       "\n",
       "    .dataframe tbody tr th {\n",
       "        vertical-align: top;\n",
       "    }\n",
       "\n",
       "    .dataframe thead th {\n",
       "        text-align: right;\n",
       "    }\n",
       "</style>\n",
       "<table border=\"1\" class=\"dataframe\">\n",
       "  <thead>\n",
       "    <tr style=\"text-align: right;\">\n",
       "      <th></th>\n",
       "      <th>regions</th>\n",
       "      <th>indicators</th>\n",
       "      <th>nationality</th>\n",
       "      <th>sex</th>\n",
       "      <th>age-groups</th>\n",
       "      <th>unit</th>\n",
       "      <th>2000</th>\n",
       "      <th>2001</th>\n",
       "      <th>2002</th>\n",
       "      <th>2003</th>\n",
       "      <th>...</th>\n",
       "      <th>2011</th>\n",
       "      <th>2012</th>\n",
       "      <th>2013</th>\n",
       "      <th>2014</th>\n",
       "      <th>2015</th>\n",
       "      <th>2016</th>\n",
       "      <th>2017</th>\n",
       "      <th>2018</th>\n",
       "      <th>2019</th>\n",
       "      <th>2020</th>\n",
       "    </tr>\n",
       "  </thead>\n",
       "  <tbody>\n",
       "    <tr>\n",
       "      <th>0</th>\n",
       "      <td>Total Sultanate</td>\n",
       "      <td>Total Population</td>\n",
       "      <td>Omani</td>\n",
       "      <td>Total</td>\n",
       "      <td>Total</td>\n",
       "      <td>capita</td>\n",
       "      <td>1777685.0</td>\n",
       "      <td>1826124.0</td>\n",
       "      <td>1869580.0</td>\n",
       "      <td>1781558.0</td>\n",
       "      <td>...</td>\n",
       "      <td>2013158.0</td>\n",
       "      <td>2092560.0</td>\n",
       "      <td>2172002.0</td>\n",
       "      <td>2260705.0</td>\n",
       "      <td>2344646.0</td>\n",
       "      <td>2427825.0</td>\n",
       "      <td>2505369.0</td>\n",
       "      <td>2579236.0</td>\n",
       "      <td>2655144.0</td>\n",
       "      <td>2735966.0</td>\n",
       "    </tr>\n",
       "    <tr>\n",
       "      <th>1</th>\n",
       "      <td>Muscat</td>\n",
       "      <td>Total Population</td>\n",
       "      <td>Omani</td>\n",
       "      <td>Total</td>\n",
       "      <td>Total</td>\n",
       "      <td>capita</td>\n",
       "      <td>366264.0</td>\n",
       "      <td>377777.0</td>\n",
       "      <td>388387.0</td>\n",
       "      <td>381612.0</td>\n",
       "      <td>...</td>\n",
       "      <td>418652.0</td>\n",
       "      <td>435149.0</td>\n",
       "      <td>451652.0</td>\n",
       "      <td>470085.0</td>\n",
       "      <td>487592.0</td>\n",
       "      <td>512039.0</td>\n",
       "      <td>528327.0</td>\n",
       "      <td>543930.0</td>\n",
       "      <td>560011.0</td>\n",
       "      <td>543293.0</td>\n",
       "    </tr>\n",
       "    <tr>\n",
       "      <th>2</th>\n",
       "      <td>Wilayat Muscat</td>\n",
       "      <td>Total Population</td>\n",
       "      <td>Omani</td>\n",
       "      <td>Total</td>\n",
       "      <td>Total</td>\n",
       "      <td>capita</td>\n",
       "      <td>38320.0</td>\n",
       "      <td>39525.0</td>\n",
       "      <td>40635.0</td>\n",
       "      <td>20732.0</td>\n",
       "      <td>...</td>\n",
       "      <td>19817.0</td>\n",
       "      <td>20598.0</td>\n",
       "      <td>21379.0</td>\n",
       "      <td>22251.0</td>\n",
       "      <td>23081.0</td>\n",
       "      <td>24210.0</td>\n",
       "      <td>24972.0</td>\n",
       "      <td>25703.0</td>\n",
       "      <td>26482.0</td>\n",
       "      <td>19584.0</td>\n",
       "    </tr>\n",
       "    <tr>\n",
       "      <th>3</th>\n",
       "      <td>Wilayat Mutrah</td>\n",
       "      <td>Total Population</td>\n",
       "      <td>Omani</td>\n",
       "      <td>Total</td>\n",
       "      <td>Total</td>\n",
       "      <td>capita</td>\n",
       "      <td>75796.0</td>\n",
       "      <td>78178.0</td>\n",
       "      <td>80373.0</td>\n",
       "      <td>56506.0</td>\n",
       "      <td>...</td>\n",
       "      <td>48857.0</td>\n",
       "      <td>50778.0</td>\n",
       "      <td>52699.0</td>\n",
       "      <td>54846.0</td>\n",
       "      <td>56885.0</td>\n",
       "      <td>60314.0</td>\n",
       "      <td>62226.0</td>\n",
       "      <td>64089.0</td>\n",
       "      <td>65943.0</td>\n",
       "      <td>39187.0</td>\n",
       "    </tr>\n",
       "    <tr>\n",
       "      <th>4</th>\n",
       "      <td>Wilayat Al Amrat</td>\n",
       "      <td>Total Population</td>\n",
       "      <td>Omani</td>\n",
       "      <td>Total</td>\n",
       "      <td>Total</td>\n",
       "      <td>capita</td>\n",
       "      <td>38258.0</td>\n",
       "      <td>39461.0</td>\n",
       "      <td>40569.0</td>\n",
       "      <td>35548.0</td>\n",
       "      <td>...</td>\n",
       "      <td>46943.0</td>\n",
       "      <td>48795.0</td>\n",
       "      <td>50648.0</td>\n",
       "      <td>52718.0</td>\n",
       "      <td>54683.0</td>\n",
       "      <td>57546.0</td>\n",
       "      <td>59398.0</td>\n",
       "      <td>61138.0</td>\n",
       "      <td>62939.0</td>\n",
       "      <td>90220.0</td>\n",
       "    </tr>\n",
       "  </tbody>\n",
       "</table>\n",
       "<p>5 rows × 27 columns</p>\n",
       "</div>"
      ],
      "text/plain": [
       "            regions        indicators nationality    sex age-groups    unit  \\\n",
       "0   Total Sultanate  Total Population       Omani  Total      Total  capita   \n",
       "1            Muscat  Total Population       Omani  Total      Total  capita   \n",
       "2    Wilayat Muscat  Total Population       Omani  Total      Total  capita   \n",
       "3    Wilayat Mutrah  Total Population       Omani  Total      Total  capita   \n",
       "4  Wilayat Al Amrat  Total Population       Omani  Total      Total  capita   \n",
       "\n",
       "        2000       2001       2002       2003  ...       2011       2012  \\\n",
       "0  1777685.0  1826124.0  1869580.0  1781558.0  ...  2013158.0  2092560.0   \n",
       "1   366264.0   377777.0   388387.0   381612.0  ...   418652.0   435149.0   \n",
       "2    38320.0    39525.0    40635.0    20732.0  ...    19817.0    20598.0   \n",
       "3    75796.0    78178.0    80373.0    56506.0  ...    48857.0    50778.0   \n",
       "4    38258.0    39461.0    40569.0    35548.0  ...    46943.0    48795.0   \n",
       "\n",
       "        2013       2014       2015       2016       2017       2018  \\\n",
       "0  2172002.0  2260705.0  2344646.0  2427825.0  2505369.0  2579236.0   \n",
       "1   451652.0   470085.0   487592.0   512039.0   528327.0   543930.0   \n",
       "2    21379.0    22251.0    23081.0    24210.0    24972.0    25703.0   \n",
       "3    52699.0    54846.0    56885.0    60314.0    62226.0    64089.0   \n",
       "4    50648.0    52718.0    54683.0    57546.0    59398.0    61138.0   \n",
       "\n",
       "        2019       2020  \n",
       "0  2655144.0  2735966.0  \n",
       "1   560011.0   543293.0  \n",
       "2    26482.0    19584.0  \n",
       "3    65943.0    39187.0  \n",
       "4    62939.0    90220.0  \n",
       "\n",
       "[5 rows x 27 columns]"
      ]
     },
     "execution_count": 15,
     "metadata": {},
     "output_type": "execute_result"
    }
   ],
   "source": [
    "df1 = pd.read_csv(\"rowData_population.csv\")\n",
    "df1.head()"
   ]
  },
  {
   "cell_type": "code",
   "execution_count": 16,
   "metadata": {},
   "outputs": [
    {
     "data": {
      "text/plain": [
       "(75, 27)"
      ]
     },
     "execution_count": 16,
     "metadata": {},
     "output_type": "execute_result"
    }
   ],
   "source": [
    "df1.shape"
   ]
  },
  {
   "cell_type": "code",
   "execution_count": 17,
   "metadata": {},
   "outputs": [
    {
     "data": {
      "text/plain": [
       "Index(['regions', 'indicators', 'nationality', 'sex', 'age-groups', 'unit',\n",
       "       '2000', '2001', '2002', '2003', '2004', '2005', '2006', '2007', '2008',\n",
       "       '2009', '2010', '2011', '2012', '2013', '2014', '2015', '2016', '2017',\n",
       "       '2018', '2019', '2020'],\n",
       "      dtype='object')"
      ]
     },
     "execution_count": 17,
     "metadata": {},
     "output_type": "execute_result"
    }
   ],
   "source": [
    "df1.columns"
   ]
  },
  {
   "cell_type": "code",
   "execution_count": 18,
   "metadata": {},
   "outputs": [
    {
     "data": {
      "text/plain": [
       "array(['Total Sultanate', 'Muscat', 'Wilayat Muscat', 'Wilayat Mutrah',\n",
       "       'Wilayat Al Amrat', 'Wilayat Bawshar', 'Wilayat As Seeb',\n",
       "       'Wilayat Qurayyat', 'Dhofar', 'Wilayat Salalah', 'Wilayat Taqah',\n",
       "       'Wilayat Mirbat', 'Wilayat Rakhyut', 'Wilayat Thumrayt',\n",
       "       'Wilayat Dalkut', 'Wilayat Al Mazyunah', 'Wilayat Muqshin',\n",
       "       'Wilayat Shalim Wa Juzor Al Hallaniyat', 'Wilayat Sadah',\n",
       "       'Musandam', 'Wilayat Khasab', 'Wilayat Daba', 'Wilayat Bukha',\n",
       "       'Wilayat Madha', 'Al Buraymi', 'Wilayat Al Buraymi',\n",
       "       'Wilayat Mahadah', 'Wilayat As Sunaynah', 'Ad Dakhliyah',\n",
       "       'Wilayat Nizwa', 'Wilayat Bahla', 'Wilayat Manah',\n",
       "       'Wilayat Al Hamra', 'Wilayat Adam', 'Wilayat Izki',\n",
       "       'Wilayat Samail', 'Wilayat Bidbid', 'Al Batinah',\n",
       "       'Al Batinah North', 'Wilayat Sohar', 'Wilayat Shinas',\n",
       "       'Wilayat Liwa', 'Wilayat Saham', 'Wilayat Al Khaburah',\n",
       "       'Wilayat As Suwayq', 'Al Batinah South', 'Wilayat Ar Rustaq',\n",
       "       'Wilayat Al Awabi', 'Wilayat Nakhal', 'Wilayat Wadi Al Maawil',\n",
       "       'Wilayat Barka', 'Wilayat Al Musanaah', 'Ash Sharqiyah',\n",
       "       'Ash Sharqiyah South', 'Wilayat Sur',\n",
       "       'Wilayat Al Kamil Wa Al Wafi', 'Wilayat Jaalan Bani Bu Hasan',\n",
       "       'Wilayat Jaalan Bani Bu Ali', 'Wilayat Masirah',\n",
       "       'Ash Sharqiyah North', 'Wilayat Ibra', 'Wilayat Al Mudaybi',\n",
       "       'Wilayat Bidiyah', 'Wilayat Al Qabil', 'Wilayat Wadi Bani Khalid',\n",
       "       'Wilayat Dama Wa At Taiyin', 'Adh Dhahirah', 'Wilayat Ibri',\n",
       "       'Wilayat Yanqul', 'Wilayat Dank', 'Al Wusta', 'Wilayat Hayma',\n",
       "       'Wilayat Mahawt', 'Wilayat Ad Duqm', 'Wilayat Al Jazir'],\n",
       "      dtype=object)"
      ]
     },
     "execution_count": 18,
     "metadata": {},
     "output_type": "execute_result"
    }
   ],
   "source": [
    "df1['regions'].unique()"
   ]
  },
  {
   "cell_type": "code",
   "execution_count": 19,
   "metadata": {},
   "outputs": [
    {
     "data": {
      "text/plain": [
       "Wilayat Al Jazir              1\n",
       "Wilayat Jaalan Bani Bu Ali    1\n",
       "Wilayat Daba                  1\n",
       "Wilayat Wadi Bani Khalid      1\n",
       "Muscat                        1\n",
       "                             ..\n",
       "Wilayat Sohar                 1\n",
       "Wilayat Dank                  1\n",
       "Wilayat Ad Duqm               1\n",
       "Al Buraymi                    1\n",
       "Wilayat Mahadah               1\n",
       "Name: regions, Length: 75, dtype: int64"
      ]
     },
     "execution_count": 19,
     "metadata": {},
     "output_type": "execute_result"
    }
   ],
   "source": [
    "df1['regions'].value_counts()"
   ]
  },
  {
   "cell_type": "code",
   "execution_count": 20,
   "metadata": {},
   "outputs": [
    {
     "data": {
      "text/plain": [
       "(75, 21)"
      ]
     },
     "execution_count": 20,
     "metadata": {},
     "output_type": "execute_result"
    }
   ],
   "source": [
    "df2 = df1.drop(['indicators','nationality','sex','age-groups','unit','2020'],axis='columns')\n",
    "df2.shape"
   ]
  },
  {
   "cell_type": "markdown",
   "metadata": {},
   "source": [
    "2.Data Cleaning : Handle Missing Values"
   ]
  },
  {
   "cell_type": "code",
   "execution_count": 21,
   "metadata": {},
   "outputs": [
    {
     "data": {
      "text/plain": [
       "regions    0\n",
       "2000       9\n",
       "2001       8\n",
       "2002       8\n",
       "2003       7\n",
       "2004       8\n",
       "2005       8\n",
       "2006       5\n",
       "2007       5\n",
       "2008       5\n",
       "2009       5\n",
       "2010       3\n",
       "2011       2\n",
       "2012       2\n",
       "2013       2\n",
       "2014       2\n",
       "2015       2\n",
       "2016       2\n",
       "2017       2\n",
       "2018       2\n",
       "2019       2\n",
       "dtype: int64"
      ]
     },
     "execution_count": 21,
     "metadata": {},
     "output_type": "execute_result"
    }
   ],
   "source": [
    "df2.isnull().sum()\n"
   ]
  },
  {
   "cell_type": "code",
   "execution_count": 22,
   "metadata": {},
   "outputs": [
    {
     "data": {
      "text/plain": [
       "(75, 21)"
      ]
     },
     "execution_count": 22,
     "metadata": {},
     "output_type": "execute_result"
    }
   ],
   "source": [
    "df2.shape"
   ]
  },
  {
   "cell_type": "code",
   "execution_count": 23,
   "metadata": {},
   "outputs": [
    {
     "data": {
      "text/plain": [
       "regions    0\n",
       "2000       0\n",
       "2001       0\n",
       "2002       0\n",
       "2003       0\n",
       "2004       0\n",
       "2005       0\n",
       "2006       0\n",
       "2007       0\n",
       "2008       0\n",
       "2009       0\n",
       "2010       0\n",
       "2011       0\n",
       "2012       0\n",
       "2013       0\n",
       "2014       0\n",
       "2015       0\n",
       "2016       0\n",
       "2017       0\n",
       "2018       0\n",
       "2019       0\n",
       "dtype: int64"
      ]
     },
     "execution_count": 23,
     "metadata": {},
     "output_type": "execute_result"
    }
   ],
   "source": [
    "df3 = df2.dropna()\n",
    "df3.isnull().sum()"
   ]
  },
  {
   "cell_type": "code",
   "execution_count": 24,
   "metadata": {},
   "outputs": [
    {
     "data": {
      "text/plain": [
       "(64, 21)"
      ]
     },
     "execution_count": 24,
     "metadata": {},
     "output_type": "execute_result"
    }
   ],
   "source": [
    "df3.shape"
   ]
  },
  {
   "cell_type": "markdown",
   "metadata": {},
   "source": [
    "3.Feature Engineering"
   ]
  },
  {
   "cell_type": "code",
   "execution_count": 25,
   "metadata": {},
   "outputs": [
    {
     "data": {
      "text/plain": [
       "regions     object\n",
       "2000       float64\n",
       "2001       float64\n",
       "2002       float64\n",
       "2003       float64\n",
       "2004       float64\n",
       "2005       float64\n",
       "2006       float64\n",
       "2007       float64\n",
       "2008       float64\n",
       "2009       float64\n",
       "2010       float64\n",
       "2011       float64\n",
       "2012       float64\n",
       "2013       float64\n",
       "2014       float64\n",
       "2015       float64\n",
       "2016       float64\n",
       "2017       float64\n",
       "2018       float64\n",
       "2019       float64\n",
       "dtype: object"
      ]
     },
     "execution_count": 25,
     "metadata": {},
     "output_type": "execute_result"
    }
   ],
   "source": [
    "df3.dtypes"
   ]
  },
  {
   "cell_type": "code",
   "execution_count": 26,
   "metadata": {},
   "outputs": [],
   "source": [
    "df3.to_csv(\"population.csv\",index=False)\n"
   ]
  },
  {
   "cell_type": "markdown",
   "metadata": {},
   "source": [
    "4.Build Model"
   ]
  },
  {
   "cell_type": "markdown",
   "metadata": {},
   "source": []
  }
 ],
 "metadata": {
  "interpreter": {
   "hash": "8fac594bfae6525c0c41b4041d2d72effa188cc8ead05f81b1fab2bb098927fb"
  },
  "kernelspec": {
   "display_name": "Python 3.7.6 ('base')",
   "language": "python",
   "name": "python3"
  },
  "language_info": {
   "codemirror_mode": {
    "name": "ipython",
    "version": 3
   },
   "file_extension": ".py",
   "mimetype": "text/x-python",
   "name": "python",
   "nbconvert_exporter": "python",
   "pygments_lexer": "ipython3",
   "version": "3.7.6"
  },
  "orig_nbformat": 4
 },
 "nbformat": 4,
 "nbformat_minor": 2
}
