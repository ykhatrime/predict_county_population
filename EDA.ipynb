{
 "cells": [
  {
   "cell_type": "markdown",
   "metadata": {},
   "source": [
    "1.Data Loading:\n",
    "Dataset is downloaded from here: www.data.gov.om"
   ]
  },
  {
   "cell_type": "code",
   "execution_count": 1,
   "metadata": {},
   "outputs": [],
   "source": [
    "import pandas as pd\n",
    "import numpy as np\n",
    "from matplotlib import pyplot as plt\n",
    "%matplotlib inline\n",
    "import matplotlib \n",
    "matplotlib.rcParams[\"figure.figsize\"] = (20,10)"
   ]
  },
  {
   "cell_type": "code",
   "execution_count": 2,
   "metadata": {},
   "outputs": [
    {
     "data": {
      "text/html": [
       "<div>\n",
       "<style scoped>\n",
       "    .dataframe tbody tr th:only-of-type {\n",
       "        vertical-align: middle;\n",
       "    }\n",
       "\n",
       "    .dataframe tbody tr th {\n",
       "        vertical-align: top;\n",
       "    }\n",
       "\n",
       "    .dataframe thead th {\n",
       "        text-align: right;\n",
       "    }\n",
       "</style>\n",
       "<table border=\"1\" class=\"dataframe\">\n",
       "  <thead>\n",
       "    <tr style=\"text-align: right;\">\n",
       "      <th></th>\n",
       "      <th>regions</th>\n",
       "      <th>indicators</th>\n",
       "      <th>Nationality</th>\n",
       "      <th>sex</th>\n",
       "      <th>age-groups</th>\n",
       "      <th>unit</th>\n",
       "      <th>2000</th>\n",
       "      <th>2001</th>\n",
       "      <th>2002</th>\n",
       "      <th>2003</th>\n",
       "      <th>...</th>\n",
       "      <th>2008</th>\n",
       "      <th>2009</th>\n",
       "      <th>2010</th>\n",
       "      <th>2011</th>\n",
       "      <th>2012</th>\n",
       "      <th>2013</th>\n",
       "      <th>2014</th>\n",
       "      <th>2015</th>\n",
       "      <th>2016</th>\n",
       "      <th>2017</th>\n",
       "    </tr>\n",
       "  </thead>\n",
       "  <tbody>\n",
       "    <tr>\n",
       "      <th>0</th>\n",
       "      <td>Wilayat Al Amrat</td>\n",
       "      <td>Total Population</td>\n",
       "      <td>Omani</td>\n",
       "      <td>Total</td>\n",
       "      <td>Total</td>\n",
       "      <td>capita</td>\n",
       "      <td>38258.0</td>\n",
       "      <td>39461.0</td>\n",
       "      <td>40569.0</td>\n",
       "      <td>35548.0</td>\n",
       "      <td>...</td>\n",
       "      <td>40466.0</td>\n",
       "      <td>41676.0</td>\n",
       "      <td>45643.0</td>\n",
       "      <td>46943.0</td>\n",
       "      <td>48795.0</td>\n",
       "      <td>50648.0</td>\n",
       "      <td>52718.0</td>\n",
       "      <td>54683.0</td>\n",
       "      <td>57546.0</td>\n",
       "      <td>59398.0</td>\n",
       "    </tr>\n",
       "    <tr>\n",
       "      <th>1</th>\n",
       "      <td>Al Batinah South</td>\n",
       "      <td>Total Population</td>\n",
       "      <td>Omani</td>\n",
       "      <td>Total</td>\n",
       "      <td>Total</td>\n",
       "      <td>capita</td>\n",
       "      <td>NaN</td>\n",
       "      <td>NaN</td>\n",
       "      <td>NaN</td>\n",
       "      <td>NaN</td>\n",
       "      <td>...</td>\n",
       "      <td>NaN</td>\n",
       "      <td>NaN</td>\n",
       "      <td>234415.0</td>\n",
       "      <td>241085.0</td>\n",
       "      <td>250600.0</td>\n",
       "      <td>260120.0</td>\n",
       "      <td>270748.0</td>\n",
       "      <td>280840.0</td>\n",
       "      <td>289420.0</td>\n",
       "      <td>298649.0</td>\n",
       "    </tr>\n",
       "    <tr>\n",
       "      <th>2</th>\n",
       "      <td>Wilayat Shalim Wa Juzor Al Hallaniyat</td>\n",
       "      <td>Total Population</td>\n",
       "      <td>Omani</td>\n",
       "      <td>Total</td>\n",
       "      <td>Total</td>\n",
       "      <td>capita</td>\n",
       "      <td>4732.0</td>\n",
       "      <td>4864.0</td>\n",
       "      <td>4984.0</td>\n",
       "      <td>2767.0</td>\n",
       "      <td>...</td>\n",
       "      <td>3079.0</td>\n",
       "      <td>3162.0</td>\n",
       "      <td>3047.0</td>\n",
       "      <td>3135.0</td>\n",
       "      <td>3258.0</td>\n",
       "      <td>3381.0</td>\n",
       "      <td>3520.0</td>\n",
       "      <td>3651.0</td>\n",
       "      <td>3776.0</td>\n",
       "      <td>3891.0</td>\n",
       "    </tr>\n",
       "    <tr>\n",
       "      <th>3</th>\n",
       "      <td>Wilayat Al Jazir</td>\n",
       "      <td>Total Population</td>\n",
       "      <td>Omani</td>\n",
       "      <td>Total</td>\n",
       "      <td>Total</td>\n",
       "      <td>capita</td>\n",
       "      <td>2479.0</td>\n",
       "      <td>2552.0</td>\n",
       "      <td>2588.0</td>\n",
       "      <td>3028.0</td>\n",
       "      <td>...</td>\n",
       "      <td>3281.0</td>\n",
       "      <td>3362.0</td>\n",
       "      <td>2899.0</td>\n",
       "      <td>2982.0</td>\n",
       "      <td>3099.0</td>\n",
       "      <td>3217.0</td>\n",
       "      <td>3349.0</td>\n",
       "      <td>3474.0</td>\n",
       "      <td>3543.0</td>\n",
       "      <td>3647.0</td>\n",
       "    </tr>\n",
       "    <tr>\n",
       "      <th>4</th>\n",
       "      <td>Wilayat Sadah</td>\n",
       "      <td>Total Population</td>\n",
       "      <td>Omani</td>\n",
       "      <td>Total</td>\n",
       "      <td>Total</td>\n",
       "      <td>capita</td>\n",
       "      <td>4311.0</td>\n",
       "      <td>4431.0</td>\n",
       "      <td>4540.0</td>\n",
       "      <td>4266.0</td>\n",
       "      <td>...</td>\n",
       "      <td>4748.0</td>\n",
       "      <td>4875.0</td>\n",
       "      <td>4585.0</td>\n",
       "      <td>4717.0</td>\n",
       "      <td>4902.0</td>\n",
       "      <td>5088.0</td>\n",
       "      <td>5295.0</td>\n",
       "      <td>5492.0</td>\n",
       "      <td>5693.0</td>\n",
       "      <td>5860.0</td>\n",
       "    </tr>\n",
       "  </tbody>\n",
       "</table>\n",
       "<p>5 rows × 24 columns</p>\n",
       "</div>"
      ],
      "text/plain": [
       "                                 regions        indicators Nationality    sex  \\\n",
       "0                       Wilayat Al Amrat  Total Population       Omani  Total   \n",
       "1                       Al Batinah South  Total Population       Omani  Total   \n",
       "2  Wilayat Shalim Wa Juzor Al Hallaniyat  Total Population       Omani  Total   \n",
       "3                       Wilayat Al Jazir  Total Population       Omani  Total   \n",
       "4                          Wilayat Sadah  Total Population       Omani  Total   \n",
       "\n",
       "  age-groups    unit     2000     2001     2002     2003  ...     2008  \\\n",
       "0      Total  capita  38258.0  39461.0  40569.0  35548.0  ...  40466.0   \n",
       "1      Total  capita      NaN      NaN      NaN      NaN  ...      NaN   \n",
       "2      Total  capita   4732.0   4864.0   4984.0   2767.0  ...   3079.0   \n",
       "3      Total  capita   2479.0   2552.0   2588.0   3028.0  ...   3281.0   \n",
       "4      Total  capita   4311.0   4431.0   4540.0   4266.0  ...   4748.0   \n",
       "\n",
       "      2009      2010      2011      2012      2013      2014      2015  \\\n",
       "0  41676.0   45643.0   46943.0   48795.0   50648.0   52718.0   54683.0   \n",
       "1      NaN  234415.0  241085.0  250600.0  260120.0  270748.0  280840.0   \n",
       "2   3162.0    3047.0    3135.0    3258.0    3381.0    3520.0    3651.0   \n",
       "3   3362.0    2899.0    2982.0    3099.0    3217.0    3349.0    3474.0   \n",
       "4   4875.0    4585.0    4717.0    4902.0    5088.0    5295.0    5492.0   \n",
       "\n",
       "       2016      2017  \n",
       "0   57546.0   59398.0  \n",
       "1  289420.0  298649.0  \n",
       "2    3776.0    3891.0  \n",
       "3    3543.0    3647.0  \n",
       "4    5693.0    5860.0  \n",
       "\n",
       "[5 rows x 24 columns]"
      ]
     },
     "execution_count": 2,
     "metadata": {},
     "output_type": "execute_result"
    }
   ],
   "source": [
    "df1 = pd.read_csv(\"population.csv\")\n",
    "df1.head()"
   ]
  },
  {
   "cell_type": "code",
   "execution_count": 3,
   "metadata": {},
   "outputs": [
    {
     "data": {
      "text/plain": [
       "(75, 24)"
      ]
     },
     "execution_count": 3,
     "metadata": {},
     "output_type": "execute_result"
    }
   ],
   "source": [
    "df1.shape"
   ]
  },
  {
   "cell_type": "code",
   "execution_count": 4,
   "metadata": {},
   "outputs": [
    {
     "data": {
      "text/plain": [
       "Index(['regions', 'indicators', 'Nationality', 'sex', 'age-groups', 'unit',\n",
       "       '2000', '2001', '2002', '2003', '2004', '2005', '2006', '2007', '2008',\n",
       "       '2009', '2010', '2011', '2012', '2013', '2014', '2015', '2016', '2017'],\n",
       "      dtype='object')"
      ]
     },
     "execution_count": 4,
     "metadata": {},
     "output_type": "execute_result"
    }
   ],
   "source": [
    "df1.columns"
   ]
  },
  {
   "cell_type": "code",
   "execution_count": 5,
   "metadata": {},
   "outputs": [
    {
     "data": {
      "text/plain": [
       "array(['Wilayat Al Amrat', 'Al Batinah South',\n",
       "       'Wilayat Shalim Wa Juzor Al Hallaniyat', 'Wilayat Al Jazir',\n",
       "       'Wilayat Sadah', 'Wilayat As Seeb', 'Wilayat Barka',\n",
       "       'Wilayat Mahawt', 'Wilayat Muscat', 'Adh Dhahirah',\n",
       "       'Ash Sharqiyah North', 'Wilayat Bidbid', 'Wilayat Al Musanaah',\n",
       "       'Dhofar', 'Wilayat Wadi Bani Khalid', 'Wilayat Mutrah',\n",
       "       'Wilayat Al Buraymi', 'Wilayat Nizwa', 'Wilayat Wadi Al Maawil',\n",
       "       'Wilayat Al Khaburah', 'Wilayat Qurayyat', 'Wilayat Al Qabil',\n",
       "       'Wilayat Shinas', 'Wilayat Yanqul', 'Wilayat Bukha',\n",
       "       'Wilayat Nakhal', 'Al Buraymi', 'Wilayat Manah',\n",
       "       'Ash Sharqiyah South', 'Wilayat Hayma',\n",
       "       'Wilayat Jaalan Bani Bu Ali', 'Wilayat As Sunaynah',\n",
       "       'Wilayat Liwa', 'Total Sultanate', 'Wilayat Thumrayt',\n",
       "       'Wilayat Adam', 'Wilayat Dama Wa At Taiyin', 'Wilayat Dank',\n",
       "       'Wilayat Samail', 'Wilayat Ad Duqm', 'Wilayat Al Hamra',\n",
       "       'Wilayat Al Kamil Wa Al Wafi', 'Wilayat Izki', 'Wilayat Bahla',\n",
       "       'Wilayat Bawshar', 'Ad Dakhliyah', 'Wilayat Al Mazyunah',\n",
       "       'Wilayat Mirbat', 'Wilayat Masirah', 'Wilayat Madha',\n",
       "       'Wilayat Muqshin', 'Wilayat Ar Rustaq', 'Wilayat Al Mudaybi',\n",
       "       'Al Batinah', 'Wilayat Ibri', 'Muscat', 'Wilayat Sohar',\n",
       "       'Wilayat Sur', 'Wilayat Jaalan Bani Bu Hasan', 'Wilayat Dalkut',\n",
       "       'Wilayat Ibra', 'Wilayat Taqah', 'Al Wusta', 'Wilayat Saham',\n",
       "       'Musandam', 'Wilayat Rakhyut', 'Al Batinah North',\n",
       "       'Wilayat Salalah', 'Wilayat Bidiyah', 'Wilayat Mahadah',\n",
       "       'Ash Sharqiyah', 'Wilayat Khasab', 'Wilayat Daba',\n",
       "       'Wilayat Al Awabi', 'Wilayat As Suwayq'], dtype=object)"
      ]
     },
     "execution_count": 5,
     "metadata": {},
     "output_type": "execute_result"
    }
   ],
   "source": [
    "df1['regions'].unique()"
   ]
  },
  {
   "cell_type": "code",
   "execution_count": 6,
   "metadata": {},
   "outputs": [
    {
     "data": {
      "text/plain": [
       "Wilayat Nizwa                 1\n",
       "Wilayat Wadi Al Maawil        1\n",
       "Wilayat Al Musanaah           1\n",
       "Wilayat Jaalan Bani Bu Ali    1\n",
       "Al Wusta                      1\n",
       "                             ..\n",
       "Ash Sharqiyah                 1\n",
       "Wilayat Bidiyah               1\n",
       "Wilayat Mahawt                1\n",
       "Wilayat Sur                   1\n",
       "Wilayat Madha                 1\n",
       "Name: regions, Length: 75, dtype: int64"
      ]
     },
     "execution_count": 6,
     "metadata": {},
     "output_type": "execute_result"
    }
   ],
   "source": [
    "df1['regions'].value_counts()"
   ]
  },
  {
   "cell_type": "code",
   "execution_count": 8,
   "metadata": {},
   "outputs": [
    {
     "data": {
      "text/plain": [
       "(75, 19)"
      ]
     },
     "execution_count": 8,
     "metadata": {},
     "output_type": "execute_result"
    }
   ],
   "source": [
    "df2 = df1.drop(['indicators','Nationality','sex','age-groups','unit'],axis='columns')\n",
    "df2.shape"
   ]
  },
  {
   "cell_type": "markdown",
   "metadata": {},
   "source": [
    "2.Data Cleaning"
   ]
  },
  {
   "cell_type": "code",
   "execution_count": 9,
   "metadata": {},
   "outputs": [
    {
     "data": {
      "text/plain": [
       "regions    0\n",
       "2000       9\n",
       "2001       8\n",
       "2002       8\n",
       "2003       7\n",
       "2004       8\n",
       "2005       8\n",
       "2006       5\n",
       "2007       5\n",
       "2008       5\n",
       "2009       5\n",
       "2010       3\n",
       "2011       2\n",
       "2012       2\n",
       "2013       2\n",
       "2014       2\n",
       "2015       2\n",
       "2016       2\n",
       "2017       2\n",
       "dtype: int64"
      ]
     },
     "execution_count": 9,
     "metadata": {},
     "output_type": "execute_result"
    }
   ],
   "source": [
    "df2.isnull().sum()\n"
   ]
  },
  {
   "cell_type": "code",
   "execution_count": 10,
   "metadata": {},
   "outputs": [
    {
     "data": {
      "text/plain": [
       "(75, 19)"
      ]
     },
     "execution_count": 10,
     "metadata": {},
     "output_type": "execute_result"
    }
   ],
   "source": [
    "df2.shape"
   ]
  },
  {
   "cell_type": "code",
   "execution_count": 11,
   "metadata": {},
   "outputs": [
    {
     "data": {
      "text/plain": [
       "regions    0\n",
       "2000       0\n",
       "2001       0\n",
       "2002       0\n",
       "2003       0\n",
       "2004       0\n",
       "2005       0\n",
       "2006       0\n",
       "2007       0\n",
       "2008       0\n",
       "2009       0\n",
       "2010       0\n",
       "2011       0\n",
       "2012       0\n",
       "2013       0\n",
       "2014       0\n",
       "2015       0\n",
       "2016       0\n",
       "2017       0\n",
       "dtype: int64"
      ]
     },
     "execution_count": 11,
     "metadata": {},
     "output_type": "execute_result"
    }
   ],
   "source": [
    "df3 = df2.dropna()\n",
    "df3.isnull().sum()"
   ]
  },
  {
   "cell_type": "code",
   "execution_count": 12,
   "metadata": {},
   "outputs": [
    {
     "data": {
      "text/plain": [
       "(64, 19)"
      ]
     },
     "execution_count": 12,
     "metadata": {},
     "output_type": "execute_result"
    }
   ],
   "source": [
    "df3.shape"
   ]
  },
  {
   "cell_type": "markdown",
   "metadata": {},
   "source": [
    "3.Feature Engineering"
   ]
  },
  {
   "cell_type": "code",
   "execution_count": null,
   "metadata": {},
   "outputs": [],
   "source": [
    "df3.to_csv(\"population.csv\",index=False)"
   ]
  }
 ],
 "metadata": {
  "interpreter": {
   "hash": "8fac594bfae6525c0c41b4041d2d72effa188cc8ead05f81b1fab2bb098927fb"
  },
  "kernelspec": {
   "display_name": "Python 3.7.6 ('base')",
   "language": "python",
   "name": "python3"
  },
  "language_info": {
   "codemirror_mode": {
    "name": "ipython",
    "version": 3
   },
   "file_extension": ".py",
   "mimetype": "text/x-python",
   "name": "python",
   "nbconvert_exporter": "python",
   "pygments_lexer": "ipython3",
   "version": "3.7.6"
  },
  "orig_nbformat": 4
 },
 "nbformat": 4,
 "nbformat_minor": 2
}
